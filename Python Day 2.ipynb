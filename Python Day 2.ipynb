{
 "cells": [
  {
   "cell_type": "markdown",
   "id": "34fb8df8",
   "metadata": {},
   "source": [
    "### Lists\n",
    "Lists contain comma separated values enclosed in square brackets"
   ]
  },
  {
   "cell_type": "code",
   "execution_count": 1,
   "id": "b9b90e75",
   "metadata": {},
   "outputs": [
    {
     "data": {
      "text/plain": [
       "['Blue', 'Red', 'Yellow', 'Brown']"
      ]
     },
     "execution_count": 1,
     "metadata": {},
     "output_type": "execute_result"
    }
   ],
   "source": [
    "#Create\n",
    "mycolors = [\"Blue\", \"Red\", \"Yellow\", \"Brown\"]\n",
    "\n",
    "#display\n",
    "mycolors"
   ]
  },
  {
   "cell_type": "markdown",
   "id": "3cbfe74d",
   "metadata": {},
   "source": [
    "#### Indexing\n",
    "- Accessing values in a list positionally\n",
    "- Python uses a zero-based indexing format"
   ]
  },
  {
   "cell_type": "code",
   "execution_count": 3,
   "id": "b21c9555",
   "metadata": {},
   "outputs": [
    {
     "data": {
      "text/plain": [
       "'Blue'"
      ]
     },
     "execution_count": 3,
     "metadata": {},
     "output_type": "execute_result"
    }
   ],
   "source": [
    "#retrieve the first item in the list mycolors\n",
    "mycolors[0]"
   ]
  },
  {
   "cell_type": "code",
   "execution_count": 4,
   "id": "d0680564",
   "metadata": {},
   "outputs": [
    {
     "data": {
      "text/plain": [
       "'Brown'"
      ]
     },
     "execution_count": 4,
     "metadata": {},
     "output_type": "execute_result"
    }
   ],
   "source": [
    "#class activity: retrieve the last item in the list mycolors\n",
    "mycolors[3]"
   ]
  },
  {
   "cell_type": "code",
   "execution_count": 6,
   "id": "9f9d572d",
   "metadata": {},
   "outputs": [
    {
     "data": {
      "text/plain": [
       "[100, 90, 80, 70, 60, 50, 40, 30, 20, 10]"
      ]
     },
     "execution_count": 6,
     "metadata": {},
     "output_type": "execute_result"
    }
   ],
   "source": [
    "#create list of 10 random numbers\n",
    "mynum = [100, 90, 80, 70, 60, 50, 40, 30, 20, 10]\n",
    "\n",
    "#display\n",
    "mynum"
   ]
  },
  {
   "cell_type": "code",
   "execution_count": 13,
   "id": "f316a6df",
   "metadata": {},
   "outputs": [
    {
     "data": {
      "text/plain": [
       "[100, 90, 80, 70, 60]"
      ]
     },
     "execution_count": 13,
     "metadata": {},
     "output_type": "execute_result"
    }
   ],
   "source": [
    "#Index with a range\n",
    "#Retrieve the first five items in the list mynum\n",
    "mynum[0:5]"
   ]
  },
  {
   "cell_type": "markdown",
   "id": "cebe63c9",
   "metadata": {},
   "source": [
    "Note: When indexing with a range, the value in the upper boundary position is excluded"
   ]
  },
  {
   "cell_type": "markdown",
   "id": "c9a6cae5",
   "metadata": {},
   "source": [
    "#### Class Activity: Create a list of 7 random names and extract the last four items in the list"
   ]
  },
  {
   "cell_type": "code",
   "execution_count": 15,
   "id": "d2c0b044",
   "metadata": {},
   "outputs": [
    {
     "data": {
      "text/plain": [
       "['Simi', 'Thota', 'Ram', 'Tom']"
      ]
     },
     "execution_count": 15,
     "metadata": {},
     "output_type": "execute_result"
    }
   ],
   "source": [
    "RandomNames = [\"Avinash\", \"sam\", \"Roy\", \"Simi\", \"Thota\", \"Ram\", \"Tom\"]\n",
    "\n",
    "RandomNames[3:7]"
   ]
  },
  {
   "cell_type": "code",
   "execution_count": 16,
   "id": "41441339",
   "metadata": {},
   "outputs": [
    {
     "data": {
      "text/plain": [
       "['Oscar', 'Hammed', 'Jay', 'Aisha']"
      ]
     },
     "execution_count": 16,
     "metadata": {},
     "output_type": "execute_result"
    }
   ],
   "source": [
    "#create a list of 7 random names\n",
    "mynames = [\"Tima\", \"Nicole\", \"Lena\", \"Oscar\", \"Hammed\", \"Jay\", \"Aisha\"]\n",
    "\n",
    "#display\n",
    "mynames[3:7]"
   ]
  },
  {
   "cell_type": "markdown",
   "id": "14ba0619",
   "metadata": {},
   "source": [
    "#### List Functions"
   ]
  },
  {
   "cell_type": "code",
   "execution_count": 23,
   "id": "1b812a43",
   "metadata": {},
   "outputs": [
    {
     "data": {
      "text/plain": [
       "[100, 90, 80, 70, 60, 50, 40, 30, 20, 10]"
      ]
     },
     "execution_count": 23,
     "metadata": {},
     "output_type": "execute_result"
    }
   ],
   "source": [
    "#create list of 10 random numbers\n",
    "mynum = [100, 90, 80, 70, 60, 50, 40, 30, 20, 10]\n",
    "\n",
    "#display\n",
    "mynum"
   ]
  },
  {
   "cell_type": "code",
   "execution_count": 24,
   "id": "ea32f55b",
   "metadata": {},
   "outputs": [
    {
     "data": {
      "text/plain": [
       "10"
      ]
     },
     "execution_count": 24,
     "metadata": {},
     "output_type": "execute_result"
    }
   ],
   "source": [
    "#Len: Retrieves the number of items in a list\n",
    "len(mynum)"
   ]
  },
  {
   "cell_type": "code",
   "execution_count": 25,
   "id": "d9315729",
   "metadata": {},
   "outputs": [
    {
     "data": {
      "text/plain": [
       "100"
      ]
     },
     "execution_count": 25,
     "metadata": {},
     "output_type": "execute_result"
    }
   ],
   "source": [
    "#Max: Retrieves the largest value in a list\n",
    "max(mynum)"
   ]
  },
  {
   "cell_type": "code",
   "execution_count": 26,
   "id": "20e88325",
   "metadata": {},
   "outputs": [
    {
     "data": {
      "text/plain": [
       "10"
      ]
     },
     "execution_count": 26,
     "metadata": {},
     "output_type": "execute_result"
    }
   ],
   "source": [
    "#Min: Retrieves the smallest value in a list\n",
    "min(mynum)"
   ]
  },
  {
   "cell_type": "code",
   "execution_count": 27,
   "id": "593ef54b",
   "metadata": {},
   "outputs": [
    {
     "data": {
      "text/plain": [
       "[100, 90, 80, 70, 60, 50, 40, 30, 20, 10, 1]"
      ]
     },
     "execution_count": 27,
     "metadata": {},
     "output_type": "execute_result"
    }
   ],
   "source": [
    "#Append: Add new item to an already existing list\n",
    "mynum.append(1)\n",
    "\n",
    "#display\n",
    "mynum"
   ]
  },
  {
   "cell_type": "code",
   "execution_count": 28,
   "id": "b2d1fcee",
   "metadata": {},
   "outputs": [
    {
     "data": {
      "text/plain": [
       "1"
      ]
     },
     "execution_count": 28,
     "metadata": {},
     "output_type": "execute_result"
    }
   ],
   "source": [
    "#check minimum value after appending a new number\n",
    "min(mynum)"
   ]
  },
  {
   "cell_type": "code",
   "execution_count": 29,
   "id": "a87fe90a",
   "metadata": {},
   "outputs": [
    {
     "data": {
      "text/plain": [
       "[100, 90, 80, 70, 60, 50, 40, 30, 20, 10]"
      ]
     },
     "execution_count": 29,
     "metadata": {},
     "output_type": "execute_result"
    }
   ],
   "source": [
    "#Remove: Deletes item from an already existing list\n",
    "mynum.remove(1)\n",
    "\n",
    "#display\n",
    "mynum"
   ]
  },
  {
   "cell_type": "code",
   "execution_count": 32,
   "id": "4bc94f29",
   "metadata": {},
   "outputs": [
    {
     "data": {
      "text/plain": [
       "[10, 20, 30, 40, 50, 60, 70, 80, 90, 100]"
      ]
     },
     "execution_count": 32,
     "metadata": {},
     "output_type": "execute_result"
    }
   ],
   "source": [
    "#Sort a list\n",
    "mynum.sort(reverse = False) #True = descending, False = Ascending\n",
    "\n",
    "mynum"
   ]
  },
  {
   "cell_type": "markdown",
   "id": "82716b27",
   "metadata": {},
   "source": [
    "#### Class activity: Create a list of five random numbers, using functions: Get the difference between the largest and smallest value divided by the lenght of the list"
   ]
  },
  {
   "cell_type": "code",
   "execution_count": 34,
   "id": "89fee015",
   "metadata": {},
   "outputs": [
    {
     "data": {
      "text/plain": [
       "8.0"
      ]
     },
     "execution_count": 34,
     "metadata": {},
     "output_type": "execute_result"
    }
   ],
   "source": [
    "num = [10, 20, 30, 40, 50]\n",
    "\n",
    "#Get the max, min and lenght values from the list\n",
    "a = max(num)\n",
    "b = min(num)\n",
    "c = len(num)\n",
    "\n",
    "#Compute\n",
    "(a-b)/c"
   ]
  },
  {
   "cell_type": "markdown",
   "id": "30ebba42",
   "metadata": {},
   "source": [
    "#### Tuples\n",
    "    They are similar to lists but with two major differences\n",
    "    1. They created with round brackets or parenthesis\n",
    "    2. They are immutable/unchangeable: update/add, remove or sort is not allowed in any way or form"
   ]
  },
  {
   "cell_type": "code",
   "execution_count": 40,
   "id": "f6f33e6a",
   "metadata": {},
   "outputs": [
    {
     "data": {
      "text/plain": [
       "('Blue', 'Red', 'Yellow', 'Brown')"
      ]
     },
     "execution_count": 40,
     "metadata": {},
     "output_type": "execute_result"
    }
   ],
   "source": [
    "#create a tuple of colors\n",
    "mytuple = (\"Blue\", \"Red\", \"Yellow\", \"Brown\")\n",
    "\n",
    "mytuple"
   ]
  },
  {
   "cell_type": "code",
   "execution_count": 41,
   "id": "7a960d75",
   "metadata": {},
   "outputs": [
    {
     "ename": "AttributeError",
     "evalue": "'tuple' object has no attribute 'append'",
     "output_type": "error",
     "traceback": [
      "\u001b[1;31m---------------------------------------------------------------------------\u001b[0m",
      "\u001b[1;31mAttributeError\u001b[0m                            Traceback (most recent call last)",
      "\u001b[1;32m<ipython-input-41-83af92e7d3f8>\u001b[0m in \u001b[0;36m<module>\u001b[1;34m\u001b[0m\n\u001b[1;32m----> 1\u001b[1;33m \u001b[0mmytuple\u001b[0m\u001b[1;33m.\u001b[0m\u001b[0mappend\u001b[0m\u001b[1;33m(\u001b[0m\u001b[1;34m\"Orange\"\u001b[0m\u001b[1;33m)\u001b[0m\u001b[1;33m\u001b[0m\u001b[1;33m\u001b[0m\u001b[0m\n\u001b[0m",
      "\u001b[1;31mAttributeError\u001b[0m: 'tuple' object has no attribute 'append'"
     ]
    }
   ],
   "source": [
    "mytuple.append(\"Orange\") #this is not available"
   ]
  },
  {
   "cell_type": "code",
   "execution_count": 38,
   "id": "bdbdee71",
   "metadata": {},
   "outputs": [
    {
     "data": {
      "text/plain": [
       "'Blue'"
      ]
     },
     "execution_count": 38,
     "metadata": {},
     "output_type": "execute_result"
    }
   ],
   "source": [
    "mytuple[0]"
   ]
  },
  {
   "cell_type": "markdown",
   "id": "221efbff",
   "metadata": {},
   "source": [
    "#### Dictionaries\n",
    "    They store data in key-value pairs\n",
    "    - Dictionaries are created using the curly-braces {}"
   ]
  },
  {
   "cell_type": "code",
   "execution_count": 52,
   "id": "46d23f6f",
   "metadata": {},
   "outputs": [
    {
     "data": {
      "text/plain": [
       "{'FirstName': 'Simi',\n",
       " 'LastName': 'Adeboye',\n",
       " 'Location': 'Nigeria',\n",
       " 'Zipcode': 23401}"
      ]
     },
     "execution_count": 52,
     "metadata": {},
     "output_type": "execute_result"
    }
   ],
   "source": [
    "#Create a dictionary\n",
    "mydict = {\"FirstName\" : \"Simi\", \"LastName\" : \"Adeboye\", \"Location\" : \"Nigeria\", \"Zipcode\" : 23401}\n",
    "\n",
    "#display\n",
    "mydict"
   ]
  },
  {
   "cell_type": "code",
   "execution_count": 44,
   "id": "721d1350",
   "metadata": {},
   "outputs": [
    {
     "data": {
      "text/plain": [
       "23401"
      ]
     },
     "execution_count": 44,
     "metadata": {},
     "output_type": "execute_result"
    }
   ],
   "source": [
    "#Accessing values in a dictionary\n",
    "mydict[\"Zipcode\"]"
   ]
  },
  {
   "cell_type": "code",
   "execution_count": 54,
   "id": "0673895a",
   "metadata": {},
   "outputs": [],
   "source": [
    "mydict[\"Location\"] = \"China\""
   ]
  },
  {
   "cell_type": "code",
   "execution_count": 55,
   "id": "fbf91a5e",
   "metadata": {},
   "outputs": [
    {
     "data": {
      "text/plain": [
       "{'FirstName': 'Simi',\n",
       " 'LastName': 'Adeboye',\n",
       " 'Location': 'China',\n",
       " 'Zipcode': 23401}"
      ]
     },
     "execution_count": 55,
     "metadata": {},
     "output_type": "execute_result"
    }
   ],
   "source": [
    "mydict"
   ]
  },
  {
   "cell_type": "code",
   "execution_count": 57,
   "id": "b4caf55a",
   "metadata": {},
   "outputs": [
    {
     "data": {
      "text/plain": [
       "{'FirstName': 'James',\n",
       " 'LastName': 'Adeboye',\n",
       " 'Location': 'China',\n",
       " 'Zipcode': 23401}"
      ]
     },
     "execution_count": 57,
     "metadata": {},
     "output_type": "execute_result"
    }
   ],
   "source": [
    "#update firstname\n",
    "mydict[\"FirstName\"] = \"James\"\n",
    "\n",
    "mydict"
   ]
  },
  {
   "cell_type": "markdown",
   "id": "b1fab3b5",
   "metadata": {},
   "source": [
    "#### Dictionary Functions"
   ]
  },
  {
   "cell_type": "code",
   "execution_count": 58,
   "id": "25c56737",
   "metadata": {},
   "outputs": [
    {
     "data": {
      "text/plain": [
       "4"
      ]
     },
     "execution_count": 58,
     "metadata": {},
     "output_type": "execute_result"
    }
   ],
   "source": [
    "#len\n",
    "len(mydict)"
   ]
  },
  {
   "cell_type": "code",
   "execution_count": 59,
   "id": "df7f11ec",
   "metadata": {},
   "outputs": [
    {
     "data": {
      "text/plain": [
       "dict_values(['James', 'Adeboye', 'China', 23401])"
      ]
     },
     "execution_count": 59,
     "metadata": {},
     "output_type": "execute_result"
    }
   ],
   "source": [
    "#Display all the values ONLY\n",
    "mydict.values()"
   ]
  },
  {
   "cell_type": "code",
   "execution_count": 60,
   "id": "894c9024",
   "metadata": {},
   "outputs": [
    {
     "data": {
      "text/plain": [
       "dict_keys(['FirstName', 'LastName', 'Location', 'Zipcode'])"
      ]
     },
     "execution_count": 60,
     "metadata": {},
     "output_type": "execute_result"
    }
   ],
   "source": [
    "#Display all the keys ONLY\n",
    "mydict.keys()"
   ]
  },
  {
   "cell_type": "code",
   "execution_count": 61,
   "id": "2e536398",
   "metadata": {},
   "outputs": [
    {
     "data": {
      "text/plain": [
       "dict_items([('FirstName', 'James'), ('LastName', 'Adeboye'), ('Location', 'China'), ('Zipcode', 23401)])"
      ]
     },
     "execution_count": 61,
     "metadata": {},
     "output_type": "execute_result"
    }
   ],
   "source": [
    "#retrieve the key-value pairs\n",
    "mydict.items()"
   ]
  },
  {
   "cell_type": "code",
   "execution_count": 66,
   "id": "864321c4",
   "metadata": {},
   "outputs": [
    {
     "data": {
      "text/plain": [
       "'James'"
      ]
     },
     "execution_count": 66,
     "metadata": {},
     "output_type": "execute_result"
    }
   ],
   "source": [
    "#Accessing values in a dictionary\n",
    "mydict[\"FirstName\"]"
   ]
  },
  {
   "cell_type": "code",
   "execution_count": 65,
   "id": "60f76d4b",
   "metadata": {},
   "outputs": [
    {
     "data": {
      "text/plain": [
       "'James'"
      ]
     },
     "execution_count": 65,
     "metadata": {},
     "output_type": "execute_result"
    }
   ],
   "source": [
    "#Get the corresponding value to a key\n",
    "mydict.get(\"FirstName\")"
   ]
  },
  {
   "cell_type": "markdown",
   "id": "507a41fd",
   "metadata": {},
   "source": [
    "Create a python program that prompts users for a month input, and then your program returns the number of days in that month."
   ]
  },
  {
   "cell_type": "code",
   "execution_count": 96,
   "id": "f3a7c66e",
   "metadata": {},
   "outputs": [
    {
     "name": "stdout",
     "output_type": "stream",
     "text": [
      "Enter a month: January\n",
      "January\n",
      "January has 31 days\n"
     ]
    }
   ],
   "source": [
    "#STEP 1: Create a dictionary of month and their corresponding days\n",
    "mymonth = {\"January\": 31,\n",
    "          \"February\" : \"28 or 29 in leap years\",\n",
    "          \"March\" : 31,\n",
    "          \"April\" : 30,\n",
    "          \"May\" : 31,\n",
    "          \"June\" : 30,\n",
    "          \"July\" : 31,\n",
    "          \"August\" : 31,\n",
    "          \"September\" : 30,\n",
    "          \"October\" : 31,\n",
    "          \"November\" : 30,\n",
    "          'December' : 31}\n",
    "\n",
    "#STEP 2: Get the user input\n",
    "userinput = input(\"Enter a month: \")\n",
    "print(userinput)\n",
    "#STEP 3: Return the number of days with a fancy message - (January) has (XXX) of days\n",
    "print(userinput, \"has\", mymonth['January'], \"days\")"
   ]
  },
  {
   "cell_type": "code",
   "execution_count": 92,
   "id": "63f31cd3",
   "metadata": {},
   "outputs": [
    {
     "name": "stdout",
     "output_type": "stream",
     "text": [
      "Enter a month: December\n"
     ]
    }
   ],
   "source": []
  },
  {
   "cell_type": "code",
   "execution_count": 95,
   "id": "94ef00e4",
   "metadata": {},
   "outputs": [
    {
     "name": "stdout",
     "output_type": "stream",
     "text": [
      "January has 31 days\n"
     ]
    }
   ],
   "source": [
    "#STEP 3: Return the number of days with a fancy message - (January) has (XXX) of days\n",
    "print('January', \"has\", mymonth['January'], \"days\")"
   ]
  },
  {
   "cell_type": "markdown",
   "id": "133d6813",
   "metadata": {},
   "source": [
    "### For Loop\n",
    "Iterates over elements/items in a data structure and executing a piece of code on each item one at a time"
   ]
  },
  {
   "cell_type": "code",
   "execution_count": 1,
   "id": "685a632c",
   "metadata": {},
   "outputs": [
    {
     "data": {
      "text/plain": [
       "[100, 90, 80, 70, 60, 50, 40, 30, 20, 10]"
      ]
     },
     "execution_count": 1,
     "metadata": {},
     "output_type": "execute_result"
    }
   ],
   "source": [
    "#create list of 10 random numbers\n",
    "mynum = [100, 90, 80, 70, 60, 50, 40, 30, 20, 10]\n",
    "\n",
    "#display\n",
    "mynum"
   ]
  },
  {
   "cell_type": "code",
   "execution_count": 3,
   "id": "37fc2363",
   "metadata": {},
   "outputs": [
    {
     "data": {
      "text/plain": [
       "10.0"
      ]
     },
     "execution_count": 3,
     "metadata": {},
     "output_type": "execute_result"
    }
   ],
   "source": [
    "#Get the square root of all the values in this list\n",
    "mynum[0] ** 0.5 #** is the exponential symbol\n"
   ]
  },
  {
   "cell_type": "code",
   "execution_count": 4,
   "id": "22a83442",
   "metadata": {},
   "outputs": [
    {
     "data": {
      "text/plain": [
       "9.486832980505138"
      ]
     },
     "execution_count": 4,
     "metadata": {},
     "output_type": "execute_result"
    }
   ],
   "source": [
    "mynum[1] ** 0.5"
   ]
  },
  {
   "cell_type": "code",
   "execution_count": 11,
   "id": "e5a69bed",
   "metadata": {},
   "outputs": [
    {
     "name": "stdout",
     "output_type": "stream",
     "text": [
      "10.0\n",
      "9.486832980505138\n",
      "8.94427190999916\n",
      "8.366600265340756\n",
      "7.745966692414834\n",
      "7.0710678118654755\n",
      "6.324555320336759\n",
      "5.477225575051661\n",
      "4.47213595499958\n",
      "3.1622776601683795\n"
     ]
    }
   ],
   "source": [
    "for i in mynum:\n",
    "    print(i ** 0.5)"
   ]
  },
  {
   "cell_type": "code",
   "execution_count": 8,
   "id": "3ea6201e",
   "metadata": {},
   "outputs": [
    {
     "name": "stdout",
     "output_type": "stream",
     "text": [
      "going\n",
      "acting\n",
      "climbing\n",
      "rolling\n"
     ]
    }
   ],
   "source": [
    "actions = [\"go\", \"act\", \"climb\", \"roll\"]\n",
    "\n",
    "print(actions[0] + \"ing\")\n",
    "print(actions[1] + \"ing\")\n",
    "print(actions[2] + \"ing\")\n",
    "print(actions[3] + \"ing\")"
   ]
  },
  {
   "cell_type": "code",
   "execution_count": 9,
   "id": "24090ddf",
   "metadata": {},
   "outputs": [
    {
     "name": "stdout",
     "output_type": "stream",
     "text": [
      "going\n",
      "acting\n",
      "climbing\n",
      "rolling\n"
     ]
    }
   ],
   "source": [
    "actions = [\"go\", \"act\", \"climb\", \"roll\"]\n",
    "\n",
    "for i in actions: #actions is the data structure we want to iterate on\n",
    "    print(i + \"ing\")"
   ]
  }
 ],
 "metadata": {
  "kernelspec": {
   "display_name": "Python 3",
   "language": "python",
   "name": "python3"
  },
  "language_info": {
   "codemirror_mode": {
    "name": "ipython",
    "version": 3
   },
   "file_extension": ".py",
   "mimetype": "text/x-python",
   "name": "python",
   "nbconvert_exporter": "python",
   "pygments_lexer": "ipython3",
   "version": "3.8.8"
  }
 },
 "nbformat": 4,
 "nbformat_minor": 5
}
